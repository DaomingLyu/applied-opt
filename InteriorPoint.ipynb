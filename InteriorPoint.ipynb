{
 "cells": [
  {
   "cell_type": "markdown",
   "metadata": {
    "slideshow": {
     "slide_type": "slide"
    }
   },
   "source": [
    "# Методы внутренней точки"
   ]
  },
  {
   "cell_type": "markdown",
   "metadata": {
    "slideshow": {
     "slide_type": "slide"
    }
   },
   "source": [
    "## На прошлом занятии\n",
    "\n",
    "- Метод Ньютона\n",
    "- Квазиньютоновские методы"
   ]
  },
  {
   "cell_type": "markdown",
   "metadata": {
    "slideshow": {
     "slide_type": "slide"
    }
   },
   "source": [
    "## Задача выпуклой оптимизации с ограничениями типа равенств\n",
    "\n",
    "\\begin{equation*}\n",
    "\\begin{split}\n",
    "&\\min f(x) \\\\ \n",
    "\\text{s.t. } & Ax = b,\n",
    "\\end{split}\n",
    "\\end{equation*}\n",
    "где $f$ - выпукла и дважды диференцируема, $A \\in \\mathbb{R}^{p \\times n}$ и $\\mathrm{rank} \\; A = p < n$"
   ]
  },
  {
   "cell_type": "markdown",
   "metadata": {
    "slideshow": {
     "slide_type": "slide"
    }
   },
   "source": [
    "### Двойственная задача\n",
    "Двойственная функция \n",
    "\\begin{equation*}\n",
    "\\begin{split}\n",
    "g(\\mu) &  = -b^{\\top}\\mu + \\inf_x(f(x) + \\mu^{\\top}Ax) \\\\\n",
    "& = -b^{\\top}\\mu - \\sup_x((-A^{\\top}\\mu)^{\\top}x -f(x)) \\\\\n",
    "& = -b^{\\top}\\mu - f^*(-A^{\\top}\\mu)\n",
    "\\end{split}\n",
    "\\end{equation*}\n",
    "\n",
    "Двойственная задача\n",
    "$$\n",
    "\\max_\\mu -b^{\\top}\\mu - f^*(-A^{\\top}\\mu)\n",
    "$$\n",
    "\n",
    "**Подход 1**: найти сопряжённую функцию и решить безусловную задачу оптимизации"
   ]
  },
  {
   "cell_type": "markdown",
   "metadata": {
    "slideshow": {
     "slide_type": "slide"
    }
   },
   "source": [
    "**Трудности**\n",
    "- не всегда легко восстановить решение прямой задачи по решению двойственной\n",
    "- сопряжённая функция $f^*$ должна быть дважды дифференцируемое для быстрого решения двойственной задачи. Это не всегда так."
   ]
  },
  {
   "cell_type": "markdown",
   "metadata": {
    "slideshow": {
     "slide_type": "slide"
    }
   },
   "source": [
    "### Условия оптимальности\n",
    "\n",
    "- $Ax^* = b$\n",
    "- $f'(x^*) + A^{\\top}\\mu^* = 0$\n",
    "\n",
    "или\n",
    "$$\n",
    "\\begin{bmatrix}\n",
    "f' & A^{\\top}\\\\\n",
    "A & 0\n",
    "\\end{bmatrix}\n",
    "\\begin{bmatrix}\n",
    "x^*\\\\\n",
    "\\mu^*\n",
    "\\end{bmatrix}\n",
    " = \n",
    "\\begin{bmatrix}\n",
    "0\\\\\n",
    "b\n",
    "\\end{bmatrix}\n",
    "$$\n",
    "\n",
    "**Подход 2**: решить нелинейную в общем случае систему методом Ньютона.\n",
    "\n",
    "**Вопрос**: в каком случае система окажется линейной?"
   ]
  },
  {
   "cell_type": "markdown",
   "metadata": {
    "slideshow": {
     "slide_type": "slide"
    }
   },
   "source": [
    "## Метод Ньютона для выпуклых задач с ограничениями типа равенств\n",
    "\n",
    "\\begin{equation*}\n",
    "\\begin{split}\n",
    "& \\min_v f(x) + f'(x)^{\\top}v + \\frac{1}{2}v^{\\top}f''(x)v\\\\\n",
    "\\text{s.t. } & A(x + v) = b\n",
    "\\end{split}\n",
    "\\end{equation*}\n",
    "\n",
    "Из условий оптимальности имеем\n",
    "$$\n",
    "\\begin{bmatrix}\n",
    "f''(x) & A^{\\top}\\\\\n",
    "A & 0\n",
    "\\end{bmatrix}\n",
    "\\begin{bmatrix}\n",
    "v\\\\\n",
    "w\n",
    "\\end{bmatrix}\n",
    " = \n",
    "\\begin{bmatrix}\n",
    "-f'(x)\\\\\n",
    "0\n",
    "\\end{bmatrix}\n",
    "$$\n",
    "\n",
    "**Шаг метода Ньютона определён только для невырожденной матрицы!**"
   ]
  },
  {
   "cell_type": "markdown",
   "metadata": {
    "slideshow": {
     "slide_type": "slide"
    }
   },
   "source": [
    "**Упражнение**. Посчитайте за сколько итераций метод Ньютона сойдётся для квадратичной функции с ограничениями типа равенств."
   ]
  },
  {
   "cell_type": "markdown",
   "metadata": {
    "slideshow": {
     "slide_type": "slide"
    }
   },
   "source": [
    "### Линеаризация условий оптимальности\n",
    "\n",
    "- $A(x + v) = b \\rightarrow Av = 0$\n",
    "- $f'(x + v) + A^{\\top}w \\approx f'(x) + f''(x)v + A^{\\top}w = 0$\n",
    "\n",
    "или\n",
    "\n",
    "- $f''(x)v + A^{\\top}w = -f'(x)$"
   ]
  },
  {
   "cell_type": "markdown",
   "metadata": {
    "slideshow": {
     "slide_type": "slide"
    }
   },
   "source": [
    "### Псевдокод\n",
    "**Важно:** начальная точка должна лежать в допустимом множестве!\n",
    "\n",
    "```python\n",
    "def NewtonEqualityFeasible(f, gradf, hessf, A, b, stop_crit, line_search, x0, tol):\n",
    "    x = x0\n",
    "    n = x.shape[0]\n",
    "    while True:\n",
    "        newton_matrix = [[hessf(x), A.T], [A, 0]]\n",
    "        rhs = [-gradf(x), 0]\n",
    "        w = solve_lin_sys(newton_matrix, rhs)\n",
    "        h = w[:n]\n",
    "        if stop_crit(x, h, gradf(x), **kwargs) < tol:\n",
    "            break\n",
    "        alpha = line_search(x, h, f, gradf(x), **kwargs)\n",
    "        x = x + alpha * h\n",
    "    return x\n",
    "```"
   ]
  },
  {
   "cell_type": "markdown",
   "metadata": {
    "slideshow": {
     "slide_type": "slide"
    }
   },
   "source": [
    "### Критерий остановки\n",
    "Получим выражение для значения\n",
    "$$\n",
    "f(x) - \\inf_v(\\hat{f}(x + v) \\; | \\; A(x+v) = b),\n",
    "$$\n",
    "где $\\hat{f}$ - квадратичная аппроксимация функции $f$.\n",
    "\n",
    "Для этого \n",
    "$$\n",
    "\\langle h^{\\top} \\rvert \\cdot \\quad f''(x)h + A^{\\top}w = -f'(x)\n",
    "$$\n",
    "с учётом $Ah = 0$ получаем \n",
    "$$\n",
    "h^{\\top}f''(x)h = -f'(x)^{\\top}h\n",
    "$$\n",
    "\n",
    "Тогда \n",
    "$$\n",
    "\\inf_v(\\hat{f}(x + v) \\; | \\; A(x+v) = b) = f(x) - \\frac{1}{2}h^{\\top}f''(x)h\n",
    "$$\n",
    "\n",
    "**Вывод:** величина $h^{\\top}f''(x)h$ является наиболее адекватным критерием остановки метода Ньютона."
   ]
  },
  {
   "cell_type": "markdown",
   "metadata": {
    "slideshow": {
     "slide_type": "slide"
    }
   },
   "source": [
    "### Теорема сходимости\n",
    "\n",
    "Сходимость метода аналогична сходимости метода Ньютона для задачи безусловной оптимизации.\n",
    "\n",
    "**Теорема**\n",
    "Пусть выполнены следующие условия\n",
    "- множество уровней $S = \\{ x \\; | \\; x \\in D(f), \\; f(x) \\leq f(x_0), \\; Ax = b \\}$ замкнуто и $x_0 \\in D(f), \\; Ax_0 = b$\n",
    "-  для любых $x \\in S$ и $\\tilde{x} \\in S$ гессиан $f''(x)$ липшицев\n",
    "- на множестве $S$ $\\|f''(x)\\|_2 \\leq M $ и норма обратной матрицы KKT системы ограничена сверху\n",
    "\n",
    "Тогда, метод Ньютона сходится к паре $(x^*, \\mu^*)$ линейно, а при достижении достаточной близости к решению - квадратично."
   ]
  },
  {
   "cell_type": "markdown",
   "metadata": {
    "slideshow": {
     "slide_type": "slide"
    }
   },
   "source": [
    "## Случай недопустимой начальной точки\n",
    "\n",
    "- Метод Ньютона требует чтобы начальная точка лежала в допустимом множестве\n",
    "- Что делать, если поиск такой точки неочевиден: например, если область определения $f$ не сопадает с $\\mathbb{R}^n$\n",
    "- Пусть начальная точка не является допустимой, в этом случае условия KKT можно записать так\n",
    "\n",
    "$$\n",
    "\\begin{bmatrix}\n",
    "f''(x) & A^{\\top}\\\\\n",
    "A & 0\n",
    "\\end{bmatrix}\n",
    "\\begin{bmatrix}\n",
    "v\\\\\n",
    "w\n",
    "\\end{bmatrix}\n",
    " = -\n",
    "\\begin{bmatrix}\n",
    "f'(x)\\\\\n",
    "{\\color{red}{Ax - b}}\n",
    "\\end{bmatrix}\n",
    "$$\n",
    "- Если $x$ допустима, то система совпадает с системой для обычного метода Ньютона"
   ]
  },
  {
   "cell_type": "markdown",
   "metadata": {
    "slideshow": {
     "slide_type": "slide"
    }
   },
   "source": [
    "### Прямо-двойственная интерпретация\n",
    "\n",
    "- Метод *прямо-двойственный*, если на каждой итерации обновляются прямые и двойственные переменные\n",
    "- Покажем, что это значит. Для этого запишем условия оптимальности в виде\n",
    "$$\n",
    "r(x^*, \\mu^*) = (r_p(x^*, \\mu^*), r_d(x^*, \\mu^*)) = 0,\n",
    "$$\n",
    "где $r_p(x, \\mu) = Ax - b$ и $r_d(x, \\mu) = f'(x) + A^{\\top}\\mu$\n",
    "- Решим систему методом Ньютона:\n",
    "$$\n",
    "r(y + z) \\approx r(y) + Dr(y)z = 0\n",
    "$$"
   ]
  },
  {
   "cell_type": "markdown",
   "metadata": {
    "slideshow": {
     "slide_type": "slide"
    }
   },
   "source": [
    "- Прямо-двойственный шаг в методе Ньютона определим как решение линейной системы\n",
    "$$\n",
    "Dr(y)z = -r(y)\n",
    "$$\n",
    "или более подробно\n",
    "$$\n",
    "\\begin{bmatrix}\n",
    "f''(x) & A^{\\top}\\\\\n",
    "A & 0\n",
    "\\end{bmatrix}\n",
    "\\begin{bmatrix}\n",
    "z_p\\\\\n",
    "z_d\n",
    "\\end{bmatrix}\n",
    " = -\n",
    "\\begin{bmatrix}\n",
    "r_p(x, \\mu)\\\\\n",
    "r_d(x, \\mu)\n",
    "\\end{bmatrix}\n",
    "= - \n",
    "\\begin{bmatrix}\n",
    "f'(x) + A^{\\top}\\mu\\\\\n",
    "Ax - b\n",
    "\\end{bmatrix}\n",
    "$$\n",
    "\n",
    "- Заменим $z_d^+ = \\mu + z_d$ и получим\n",
    "$$\n",
    "\\begin{bmatrix}\n",
    "f''(x) & A^{\\top}\\\\\n",
    "A & 0\n",
    "\\end{bmatrix}\n",
    "\\begin{bmatrix}\n",
    "z_p\\\\\n",
    "z_d^+\n",
    "\\end{bmatrix}\n",
    "= - \n",
    "\\begin{bmatrix}\n",
    "f'(x)\\\\\n",
    "Ax - b\n",
    "\\end{bmatrix}\n",
    "$$\n",
    "\n",
    "- Система полностью эквивалентна ранее полученной в обозначениях \n",
    "\n",
    "$$\n",
    "v = z_p \\qquad w = z_d^+ = \\mu + z_d \n",
    "$$\n",
    "\n",
    "- Метод Ньютона даёт шаг для прямой переменной и обновлённое значение для двойственной"
   ]
  },
  {
   "cell_type": "markdown",
   "metadata": {
    "slideshow": {
     "slide_type": "slide"
    }
   },
   "source": [
    "### Способ инициализации\n",
    "\n",
    "- Удобный способ задания начального приближения: найти точку из области определения $f$ гораздо проще, чем из пересечения области определения и допустимого множества\n",
    "- Метод Ньютона с недопустимой начальной точкой не может определить согласованность ограничений"
   ]
  },
  {
   "cell_type": "markdown",
   "metadata": {
    "slideshow": {
     "slide_type": "slide"
    }
   },
   "source": [
    "### Псевдокод\n",
    "\n",
    "```python\n",
    "def NewtonEqualityInfeasible(f, gradf, hessf, A, b, stop_crit, line_search, x0, mu0, tol):\n",
    "    x = x0\n",
    "    mu = mu0\n",
    "    n = x.shape[0]\n",
    "    while True:\n",
    "        z_p, z_d = ComputeNewtonStep(hessf(x), A, b)\n",
    "        if stop_crit(x, z_p, z_d, gradf(x), **kwargs) < tol:\n",
    "            break\n",
    "        alpha = line_search(x, z_p, z_d, f, gradf(x), **kwargs)\n",
    "        x = x + alpha * z_p\n",
    "        mu = mu + alpha * z_d\n",
    "    return x\n",
    "```"
   ]
  },
  {
   "cell_type": "markdown",
   "metadata": {
    "slideshow": {
     "slide_type": "slide"
    }
   },
   "source": [
    "### Критерий остановки и линейный поиск\n",
    "\n",
    "- Изменение $r_p$ после шага $z_p$\n",
    "$$\n",
    "A(x + \\alpha z_p) - b = [A(x + z_p) = b] = Ax + \\alpha(b - Ax) - b = (1 - \\alpha)(Ax - b)\n",
    "$$\n",
    "- Итоговое изменение после $k$ шагов\n",
    "$$\n",
    "r^{(k)} = \\prod_{i=0}^{k-1}(1 - \\alpha^{(i)})r^{(0)}\n",
    "$$\n",
    "- Критерий остановки: $Ax = b$ и $\\|r(x, \\mu)\\|_2 \\leq \\varepsilon$"
   ]
  },
  {
   "cell_type": "markdown",
   "metadata": {
    "slideshow": {
     "slide_type": "slide"
    }
   },
   "source": [
    "- Линейный поиск: $c \\in (0, 1/2)$, $\\beta = (0, 1)$\n",
    "```python\n",
    "def linesearch(r, x, mu, z_p, z_d, c, beta):\n",
    "    alpha = 1\n",
    "    while np.linalg.norm(r(x + alpha * z_p, mu + alpha * z_d)) >= (1 - c * alpha) * np.linalg.norm(r(x, mu)):\n",
    "        alpha *= beta\n",
    "    return alpha\n",
    "```"
   ]
  },
  {
   "cell_type": "markdown",
   "metadata": {
    "slideshow": {
     "slide_type": "slide"
    }
   },
   "source": [
    "### Теорема сходимости\n",
    "\n",
    "Результат аналогичен результаты для допустимой начальной точки\n",
    "\n",
    "**Теорема.** Пусть\n",
    "- множество подуровней $S = \\{(x, \\mu) \\; | \\; x \\in D(f), \\; \\| r(x, \\mu) \\|_2 \\leq \\| r(x_0, \\mu_0)  \\|_2 \\}$ замкнуто\n",
    "- на множестве $S$ норма матрицы обратной к ККТ матрице ограничена\n",
    "- гессиан липшицев на $S$.\n",
    "\n",
    "Тогда сходимость метода линейна при удалении от решении и квадратичная при достаточном приближении к решению."
   ]
  },
  {
   "cell_type": "markdown",
   "metadata": {
    "slideshow": {
     "slide_type": "slide"
    }
   },
   "source": [
    "## Общая задача выпуклой оптимизации\n",
    "\n",
    "\\begin{equation*}\n",
    "\\begin{split}\n",
    "& \\min_{x \\in \\mathbb{R}^n} f_0(x)\\\\\n",
    "\\text{s.t. } & f_i (x) \\leq 0 \\qquad i=1,\\ldots,m\\\\\n",
    "& Ax = b,\n",
    "\\end{split}\n",
    "\\end{equation*}\n",
    "где $f_i$ - выпуклые и дважды непрерывно дифференцируемы, $A \\in \\mathbb{R}^{p \\times n}$ и $\\mathrm{rank} \\; A = p < n$. \n",
    "\n",
    "Предполагаем, что задача строго разрешима, то есть выполняется условие Слейтера."
   ]
  },
  {
   "cell_type": "markdown",
   "metadata": {
    "slideshow": {
     "slide_type": "slide"
    }
   },
   "source": [
    "## Условия оптимальности\n",
    "\n",
    "- Разрешимость прямой задачи\n",
    "$$\n",
    "Ax^* = b, \\; f_i(x^*) \\leq 0, \\; i = 1,\\ldots,m\n",
    "$$\n",
    "- Разрешимость двойственной задачи\n",
    "$$\n",
    "\\lambda^* \\geq 0\n",
    "$$\n",
    "- Стационарность лагранжиана\n",
    "$$\n",
    "f'_0(x^*) + \\sum_{i=1}^m \\lambda^*_if'_i(x^*) + A^{\\top}\\mu^* = 0\n",
    "$$\n",
    "- Условие дополняющей нежёсткости\n",
    "$$\n",
    "\\lambda^*_i f_i(x^*) = 0, \\qquad i = 1,\\ldots, m\n",
    "$$"
   ]
  },
  {
   "cell_type": "markdown",
   "metadata": {
    "slideshow": {
     "slide_type": "slide"
    }
   },
   "source": [
    "## Идея\n",
    "\n",
    "- Свести задачу с ограничениями типа **неравенств** к последовательности задач с ограничениями типа **равенств**\n",
    "- Использовать методы для решения задачи с ограничениями типа равенств"
   ]
  },
  {
   "cell_type": "markdown",
   "metadata": {
    "slideshow": {
     "slide_type": "slide"
    }
   },
   "source": [
    "\\begin{equation*}\n",
    "\\begin{split}\n",
    "& \\min f_0(x) + \\sum_{i=1}^m I_-(f_i(x))\\\\\n",
    "\\text{s.t. } & Ax = b,\n",
    "\\end{split}\n",
    "\\end{equation*}\n",
    "где $I_-$ - индикаторная функция\n",
    "$$\n",
    "I_-(u) = \n",
    "\\begin{cases}\n",
    "0, & u \\leq 0\\\\\n",
    "\\infty, & u > 0\n",
    "\\end{cases}\n",
    "$$\n",
    "\n",
    "**Проблема.** Теперь целевая функция - **недифференцируема**."
   ]
  },
  {
   "cell_type": "markdown",
   "metadata": {
    "slideshow": {
     "slide_type": "slide"
    }
   },
   "source": [
    "## Логарифмический барьер\n",
    "\n",
    "**Идея.** Приблизить функцию $I_-(u)$ функцией\n",
    "$$\n",
    "\\hat{I}_-(u) = -t\\log(-u),\n",
    "$$\n",
    "где $t > 0$ - параметр.\n",
    "\n",
    "- Функции $I_-(u)$ и $\\hat{I}_-(u)$ выпуклые и неубывающие\n",
    "- Однако $\\hat{I}_-(u)$ **дифференцируема** и приближается к $I_-(u)$ при $t \\to 0$"
   ]
  },
  {
   "cell_type": "code",
   "execution_count": 1,
   "metadata": {
    "slideshow": {
     "slide_type": "slide"
    }
   },
   "outputs": [
    {
     "data": {
      "text/plain": [
       "<matplotlib.text.Text at 0x7f4154995198>"
      ]
     },
     "execution_count": 1,
     "metadata": {},
     "output_type": "execute_result"
    },
    {
     "data": {
      "image/png": "[encoded data removed]",
      "text/plain": [
       "<matplotlib.figure.Figure at 0x7f413751b358>"
      ]
     },
     "metadata": {},
     "output_type": "display_data"
    }
   ],
   "source": [
    "%matplotlib inline\n",
    "import matplotlib.pyplot as plt\n",
    "import numpy as np\n",
    "\n",
    "x = np.linspace(-2, 0, 100000, endpoint=False)\n",
    "plt.figure(figsize=(10, 6))\n",
    "for t in [0.1, 0.5, 1, 1.5, 2]:\n",
    "    plt.plot(x, -t * np.log(-x), label=r\"$t = \" + str(t) + \"$\")\n",
    "plt.legend(fontsize=20)\n",
    "plt.xticks(fontsize=20)\n",
    "plt.yticks(fontsize=20)\n",
    "plt.xlabel(\"u\", fontsize=20)"
   ]
  },
  {
   "cell_type": "markdown",
   "metadata": {
    "slideshow": {
     "slide_type": "slide"
    }
   },
   "source": [
    "### \"Ограниченная\" задача\n",
    "\n",
    "\\begin{equation*}\n",
    "\\begin{split}\n",
    "& \\min f_0(x) + \\sum_{i=1}^m -t \\log(-f_i(x))\\\\\n",
    "\\text{s.t. } & Ax = b,\n",
    "\\end{split}\n",
    "\\end{equation*}\n",
    "- Задача по-прежнему **выпуклая**\n",
    "- Функция \n",
    "$$\n",
    "\\phi(x) = -\\sum\\limits_{i=1}^m \\log(-f_i(x))\n",
    "$$ \n",
    "называется *логарифмическим барьером*. Её область определения - множество точек, для котороых ограничения типа неравенств выполняются строго.\n",
    "\n",
    "**Упражнение.** Найдите градиент и гессиан $\\phi(x)$"
   ]
  },
  {
   "cell_type": "markdown",
   "metadata": {
    "slideshow": {
     "slide_type": "slide"
    }
   },
   "source": [
    "## Центральный путь\n",
    "\n",
    "Для каждого $t > 0$ \"ограниченная\" задача имеет единственное решение $x^*(t)$.\n",
    "\n",
    "**Определение.** Последовательность $x^*(t)$ для $t > 0$ образует *центральный путь*."
   ]
  },
  {
   "cell_type": "markdown",
   "metadata": {
    "slideshow": {
     "slide_type": "slide"
    }
   },
   "source": [
    "## Условия оптимальности для \"ограниченной\" задачи\n",
    "\n",
    "- Разрешимость прямой задачи\n",
    "$$\n",
    "Ax^*(t) = b, \\; f_i(x^*) < 0, \\; i = 1,\\ldots,m\n",
    "$$\n",
    "- Стационарность лагранжиана\n",
    "\\begin{equation*}\n",
    "\\begin{split}\n",
    "& f'_0(x^*(t)) + \\phi'(x^*(t)) + A^{\\top}\\hat{\\mu} = \\\\\n",
    "& = f'_0(x^*(t)) - t\\sum_{i=1}^m \\frac{f_i'(x^*(t))}{f_i(x^*(t))} + A^{\\top}\\hat{\\mu} = 0\n",
    "\\end{split}\n",
    "\\end{equation*}"
   ]
  },
  {
   "cell_type": "markdown",
   "metadata": {
    "slideshow": {
     "slide_type": "slide"
    }
   },
   "source": [
    "- Обозначим \n",
    "$$\n",
    "\\lambda^*_i(t) = -\\frac{t}{f_i(x^*(t))} \\; i=1,\\ldots,m \\text{ и } \\mu^* = \\hat{\\mu}\n",
    "$$\n",
    "- Тогда условие оптимальности можно записать как\n",
    "$$\n",
    "f'_0(x^*(t)) + \\sum_{i=1}^m \\lambda^*_i(t)f_i'(x^*(t)) + A^{\\top}\\mu^* = 0\n",
    "$$\n",
    "- Тогда $x^*(t)$ минимизирует лагранжиан \n",
    "$$\n",
    "L = f_0(x) + \\sum_{i=1}^m \\lambda_if_i(x) + \\mu^{\\top}(Ax - b)\n",
    "$$\n",
    "для $\\lambda = \\lambda^*(t)$ и $\\mu = \\mu^*$."
   ]
  },
  {
   "cell_type": "markdown",
   "metadata": {
    "slideshow": {
     "slide_type": "slide"
    }
   },
   "source": [
    "### Зазор двойственности\n",
    "\n",
    "- Двойственная функция $g(\\lambda^*(t), \\mu^*)$ конечна и представима в виде\n",
    "\\begin{equation*}\n",
    "\\begin{split}\n",
    "g(\\lambda^*(t), \\mu^*) & = f_0(x^*(t)) + \\sum_{i=1}^m \\lambda^*_i(t)f_i(x^*(t)) + (\\mu^*)^{\\top}(Ax^*(t) - b)\\\\\n",
    "& = f_0(x^*(t)) - mt\n",
    "\\end{split}\n",
    "\\end{equation*}\n",
    "\n",
    "- Зазор двойственности\n",
    "$$\n",
    "f_0(x^*(t)) - p^* \\leq mt\n",
    "$$\n",
    "\n",
    "- При $t \\to 0$ зазор двойственности равен 0 и центральный путь сходится к решению исходной задачи."
   ]
  },
  {
   "cell_type": "markdown",
   "metadata": {
    "slideshow": {
     "slide_type": "slide"
    }
   },
   "source": [
    "## ККТ интерпретация\n",
    "\n",
    "Условия оптимальности для \"ограниченной\" задачи эквивалентны условиям оптимальности для исходной задачи если\n",
    "$$\n",
    "-\\lambda_i f_i(x) = 0 \\Rightarrow - \\lambda_i f_i(x) = t \\quad i = 1,\\ldots, m\n",
    "$$"
   ]
  },
  {
   "cell_type": "markdown",
   "metadata": {
    "slideshow": {
     "slide_type": "slide"
    }
   },
   "source": [
    "## Физическая интерпретация\n",
    "- Предположим, что ограничений типа равенства нет\n",
    "- Рассмотрим неквантовую частицу в поле сил\n",
    "- Каждому ограничению $f_i(x) \\leq 0$ поставим в соответствие силу\n",
    "$$\n",
    "F_i(x) = -\\nabla(-\\log(-f_i(x))) = \\frac{f'_i(x)}{f_i(x)}\n",
    "$$\n",
    "- Целевой функции также поставим в соответствие силу \n",
    "$$\n",
    "F_0(x) = -\\frac{f'_0(x)}{t}\n",
    "$$\n",
    "- Каждая точка из центрального пути $x^*(t)$ - это положение частицы, в котором выполняется баланс сил ограничений и целевой функции\n",
    "- С уменьшением $t$ сила для целевой функции доминирует, и частица стремится занять положение, расположенное ближе к оптимальному\n",
    "- Поскольку сила ограничений стремится к бесконечности при приближении частицы к границе, частица никогда не вылетит из допустимого множества"
   ]
  },
  {
   "cell_type": "markdown",
   "metadata": {
    "slideshow": {
     "slide_type": "slide"
    }
   },
   "source": [
    "## Барьерный метод\n",
    "\n",
    "- $x_0$ должна быть допустимой\n",
    "- $t_0 > 0$ - начальное значение параметра\n",
    "- $\\alpha \\in (0, 1)$ - множитель для уменьшения $t_0$\n",
    "\n",
    "```python\n",
    "def BarrierMethod(f, x0, t0, tol, alpha, **kwargs):\n",
    "    x = x0\n",
    "    t = t0\n",
    "    while True:\n",
    "        x = SolveBarrierProblem(f, t, x, **kwargs)\n",
    "        if m * t < tol:\n",
    "            break\n",
    "        t *= alpha\n",
    "    return x\n",
    "```"
   ]
  },
  {
   "cell_type": "markdown",
   "metadata": {
    "slideshow": {
     "slide_type": "slide"
    }
   },
   "source": [
    "### Точность решения \"ограниченной\" задачи\n",
    "\n",
    "- Точное решение \"ограниченной\" задачи не требуется, так как приближённый центральный путь всё равно сойдётся к решению исходной задачи\n",
    "- Двойственные переменные перестают быть двойственными при неточном решении, но это поправимо введением поправочных слагаемых\n",
    "- Разница в стоимости точного и неточного центрального пути - несколько итераций метода Ньютона, поэтому существенного ускорения добиться нельзя"
   ]
  },
  {
   "cell_type": "markdown",
   "metadata": {
    "slideshow": {
     "slide_type": "slide"
    }
   },
   "source": [
    "### Выбор параметров\n",
    "- Множитель $\\alpha$\n",
    "    - При $\\alpha \\sim 1$, **мало** итераций нужно для решения \"ограниченной\" задачи, но **много** для нахождения точного решения исходной задачи\n",
    "    - При $\\alpha \\sim 10^{-5}$ **много** итераций нужно для решения \"ограниченной\" задачи, но **мало** для нахождения точного решения исходной задачи\n",
    "- Начальный параметр $t_0$\n",
    "    - Аналогичная альтернатива как и для параметра $\\alpha$\n",
    "    - Параметр $t_0$ задаёт начальную точку для центрального пути"
   ]
  },
  {
   "cell_type": "markdown",
   "metadata": {
    "slideshow": {
     "slide_type": "slide"
    }
   },
   "source": [
    "### Почти теорема сходимости\n",
    "\n",
    "- Как было показано выше при $t \\to 0$ барьерный метод сходится к решению исходной задачи\n",
    "- Скорость сходимости напрямую связана с параметрами $\\alpha$ и $t_0$, как показано ранее\n",
    "- Основная сложность - быстрое решение вспомогательных задач методом Ньютона"
   ]
  },
  {
   "cell_type": "markdown",
   "metadata": {
    "slideshow": {
     "slide_type": "slide"
    }
   },
   "source": [
    "## Задача поиска допустимого начального приближения\n",
    "\n",
    "- Барьерный метод требует допустимого начального приближения\n",
    "- Метод разбивается на две фазы\n",
    "    - Первая фаза метода ищет допустимое начальное приближение\n",
    "    - Вторая фаза использует найденное начальное приближение для запуска барьерного метода"
   ]
  },
  {
   "cell_type": "markdown",
   "metadata": {
    "slideshow": {
     "slide_type": "slide"
    }
   },
   "source": [
    "### Первая фаза метода\n",
    "\n",
    "Простой поиск допустимой точки\n",
    "\n",
    "\\begin{equation*}\n",
    "\\begin{split}\n",
    "& \\min s\\\\\n",
    "\\text{s.t. } & f_i(x) \\leq s\\\\\n",
    "& Ax = b\n",
    "\\end{split}\n",
    "\\end{equation*}\n",
    "- эта задача всегда имеет строго допустимое начальное приближение\n",
    "- если $s^* < 0$, то $x^*$ строго допустима и может быть использована в барьерном методе\n",
    "- если $s^* > 0$, то задача не разрешима и допустимое множество пусто"
   ]
  },
  {
   "cell_type": "markdown",
   "metadata": {
    "slideshow": {
     "slide_type": "slide"
    }
   },
   "source": [
    "### Сумма несогласованностей\n",
    "\\begin{equation*}\n",
    "\\begin{split}\n",
    "& \\min s_1 + \\ldots + s_m\\\\\n",
    "\\text{s.t. } & f_i(x) \\leq s_i\\\\\n",
    "& Ax = b\\\\\n",
    "& s \\geq 0\n",
    "\\end{split}\n",
    "\\end{equation*}\n",
    "- оптимальное значене равно нулю и достигается тогда и только тогда когда система ограничений совместна\n",
    "- если задача неразрешима, то можно определить какие ограничения к этому приводят, то есть какие $s_i > 0$ "
   ]
  },
  {
   "cell_type": "markdown",
   "metadata": {
    "slideshow": {
     "slide_type": "slide"
    }
   },
   "source": [
    "### Вторая фаза метода\n",
    "\n",
    "- После получения допустимой начальной точки $x_0$ выполняется обычный метод Ньютона для задачи с ограничениями равенствами"
   ]
  },
  {
   "cell_type": "markdown",
   "metadata": {
    "slideshow": {
     "slide_type": "slide"
    }
   },
   "source": [
    "## Прямо-двойственный метод\n",
    "\n",
    "Похож на барьерный метод, но\n",
    "- нет разделения на внешние итерации и внутренние: на каждой итерации обновляются прямые и двойственные переменные\n",
    "- направление определяется методом Ньютона, применённого к модифицированной системе ККТ\n",
    "- последовательность точек в прямо-двойственном методе не обязательно допустимы \n",
    "- работает даже когда задача не строго допустима"
   ]
  },
  {
   "cell_type": "markdown",
   "metadata": {
    "slideshow": {
     "slide_type": "slide"
    }
   },
   "source": [
    "## Резюме\n",
    "\n",
    "- Метод Ньютона для выпуклой задачи с оганичениями типа равенств\n",
    "- Случай недопустимой начальной точки\n",
    "- Прямой барьерный метод\n",
    "- Прямо-двойственный метод"
   ]
  }
 ],
 "metadata": {
  "celltoolbar": "Slideshow",
  "kernelspec": {
   "display_name": "Python [conda env:cvxpy]",
   "language": "python",
   "name": "conda-env-cvxpy-py"
  },
  "language_info": {
   "codemirror_mode": {
    "name": "ipython",
    "version": 3
   },
   "file_extension": ".py",
   "mimetype": "text/x-python",
   "name": "python",
   "nbconvert_exporter": "python",
   "pygments_lexer": "ipython3",
   "version": "3.6.3"
  }
 },
 "nbformat": 4,
 "nbformat_minor": 2
}
